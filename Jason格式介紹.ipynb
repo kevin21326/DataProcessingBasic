{
 "cells": [
  {
   "cell_type": "code",
   "execution_count": 5,
   "id": "3652752a",
   "metadata": {},
   "outputs": [
    {
     "name": "stdout",
     "output_type": "stream",
     "text": [
      "{'id': 123, 'Name': 'wsrsw', 'Email': 'wsrsw@example.com'}\n",
      "<class 'dict'>\n"
     ]
    }
   ],
   "source": [
    "#!/usr/bin/python\n",
    "import json\n",
    "str1 = '{\"id\": 123, \"Name\": \"wsrsw\", \"Email\": \"wsrsw@example.com\"}'\n",
    "j = json.loads(str1)\n",
    "\n",
    "print(j)\n",
    "print(type(j))"
   ]
  },
  {
   "cell_type": "code",
   "execution_count": 7,
   "id": "c5baffc5",
   "metadata": {},
   "outputs": [
    {
     "data": {
      "text/plain": [
       "123"
      ]
     },
     "execution_count": 7,
     "metadata": {},
     "output_type": "execute_result"
    }
   ],
   "source": [
    "j['id']"
   ]
  },
  {
   "cell_type": "code",
   "execution_count": 9,
   "id": "7f857cda",
   "metadata": {},
   "outputs": [],
   "source": [
    "obj2 = {\n",
    "  \"id\": 123,\n",
    "  \"Name\": \"wsrsw\",\n",
    "  \"Email\": \"wsrsw@example.com\",\n",
    "  \"contents\": [\n",
    "    {\n",
    "      \"subject\":\"Math\", \n",
    "      \"score\":80\n",
    "    },\n",
    "    {\n",
    "      \"subject\":\"English\", \n",
    "      \"score\":90\n",
    "    }\n",
    "  ]\n",
    "}"
   ]
  },
  {
   "cell_type": "code",
   "execution_count": 10,
   "id": "249feabd",
   "metadata": {},
   "outputs": [
    {
     "data": {
      "text/plain": [
       "123"
      ]
     },
     "execution_count": 10,
     "metadata": {},
     "output_type": "execute_result"
    }
   ],
   "source": [
    "obj2['id']"
   ]
  },
  {
   "cell_type": "code",
   "execution_count": null,
   "id": "81f54db1",
   "metadata": {},
   "outputs": [],
   "source": []
  }
 ],
 "metadata": {
  "kernelspec": {
   "display_name": "Python 3 (ipykernel)",
   "language": "python",
   "name": "python3"
  },
  "language_info": {
   "codemirror_mode": {
    "name": "ipython",
    "version": 3
   },
   "file_extension": ".py",
   "mimetype": "text/x-python",
   "name": "python",
   "nbconvert_exporter": "python",
   "pygments_lexer": "ipython3",
   "version": "3.11.4"
  }
 },
 "nbformat": 4,
 "nbformat_minor": 5
}
