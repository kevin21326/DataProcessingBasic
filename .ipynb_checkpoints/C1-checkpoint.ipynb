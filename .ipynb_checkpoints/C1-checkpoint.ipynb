{
 "cells": [
  {
   "cell_type": "code",
   "execution_count": 154,
   "id": "4d1ef712",
   "metadata": {},
   "outputs": [
    {
     "name": "stdout",
     "output_type": "stream",
     "text": [
      "0到第2位 \t [10, 20, 30.3]\n",
      "0到第1位 \t [10, 20]\n",
      "倒數第1位 \t 61.4\n",
      "倒數第2位 \t 50\n",
      "list資料長度 \t 6\n",
      "全部資料 \t [10, 20, 30.3, 40.5, 50, 61.4]\n",
      "值20的index \t 1\n",
      "從後加入3 \t [10, 20, 30.3, 40.5, 50, 61.4, 3]\n",
      "減掉最後一個值 \t [10, 20, 30.3, 40.5, 50, 61.4]\n",
      "list總合 \t 212.20000000000002\n",
      "list平均 \t 35.36666666666667\n",
      "四捨五入 \t 35.37\n",
      "刪1-4號位置的值 \t [10, 61.4]\n",
      "第0個位置的值 \t [11, 61.4]\n",
      "複製一個list \t [11, 61.4]\n",
      "兩個list並接 \t [11, 61.4, 11, 61.4]\n",
      "找出最大值 \t 61.4\n",
      "最大值重複 \t 61.4\n",
      "最小值重複 \t 11\n",
      "將3插入0號位置 \t [3, 11, 61.4]\n",
      "從大到小排列 \t [61.4, 11, 3]\n",
      "刪除值為3的資料 \t [61.4, 11]\n",
      "吐掉最後一個值 \t [61.4]\n",
      "被吐掉的值 \t 11\n",
      "list1空串列 \t []\n",
      "list2快速建立 \t [0, 0, 0, 0, 0, 0, 0, 0, 0, 0]\n",
      "兩個LIST合併 \t [1, 2, 3, 4]\n",
      "複製1份放在後面 \t [1, 2, 3, 4, 1, 2, 3, 4]\n"
     ]
    }
   ],
   "source": [
    "#E1-1 資料 list 的基本操作方法\n",
    "a = [10,20,30.3,40.5,50,61.4]\n",
    "print(\"0到第2位\",'\\t', a[0:3])\n",
    "print(\"0到第1位\",'\\t',a[:2])\n",
    "print(\"倒數第1位\",'\\t',a[-1])\n",
    "print(\"倒數第2位\",'\\t',a[-2])\n",
    "print(\"list資料長度\",'\\t',len(a))\n",
    "print(\"全部資料\",'\\t',a[:])\n",
    "print(\"值20的index\",'\\t',a.index(20))\n",
    "a.append(3)\n",
    "print(\"從後加入3\",'\\t',a)\n",
    "del a[-1]\n",
    "print(\"減掉最後一個值\",'\\t',a)\n",
    "print(\"list總合\",'\\t',sum(a))\n",
    "print(\"list平均\",'\\t',sum(a)/len(a))\n",
    "print(\"四捨五入\",'\\t',round(sum(a)/len(a),2))\n",
    "del a[1:5]\n",
    "print(\"刪1-4號位置的值\",'\\t',a)\n",
    "a[0]=11\n",
    "print(\"第0個位置的值\",'\\t',a)\n",
    "b = a\n",
    "print(\"複製一個list\",'\\t',b)\n",
    "print(\"兩個list並接\",'\\t',b+a)\n",
    "print(\"找出最大值\",'\\t',max(a))\n",
    "print(\"最大值重複\",'\\t',max(b+a))\n",
    "print(\"最小值重複\",'\\t',min(b+a))\n",
    "a.insert(0,3)\n",
    "print(\"將3插入0號位置\",'\\t',a)\n",
    "a.sort(reverse = True)\n",
    "print(\"從大到小排列\",'\\t',a)\n",
    "a.remove(3)\n",
    "print(\"刪除值為3的資料\",'\\t',a)\n",
    "c = a.pop()\n",
    "print(\"吐掉最後一個值\",'\\t',a)\n",
    "print(\"被吐掉的值\",'\\t',c)\n",
    "\n",
    "list1=[] #空串列\n",
    "list2=[0]*10 #快速建立為0的串列\n",
    "print(\"list1空串列\",'\\t',list1)\n",
    "print(\"list2快速建立\",'\\t',list2)\n",
    "\n",
    "list1 = [1, 2]\n",
    "list2 = [3, 4]\n",
    "list3 = list1 + list2\n",
    "list4 = list3 * 2\n",
    "print(\"兩個LIST合併\",'\\t',list3)\n",
    "print(\"複製1份放在後面\",'\\t',list4)"
   ]
  },
  {
   "cell_type": "code",
   "execution_count": null,
   "id": "9e571e6b",
   "metadata": {},
   "outputs": [],
   "source": [
    "#T1-1\n",
    "#上述題目做更改 輸入4個數字，輸出這4個數字的合\n",
    "#輸入 11 、 12.3 、 22.3 、 14.6  輸出 60.2"
   ]
  },
  {
   "cell_type": "code",
   "execution_count": 44,
   "id": "95a5fc39",
   "metadata": {},
   "outputs": [
    {
     "name": "stdout",
     "output_type": "stream",
     "text": [
      "輸入第1個數字22\n",
      "輸入第2個數字22\n",
      "輸入第3個數字33\n",
      "輸入第4個數字455\n",
      "['22', '22', '33', '455']\n"
     ]
    }
   ],
   "source": [
    "#T1-2\n",
    "#輸入四位同學的分數，如果人的分數低於60分則以59分代替，之後給予四位同學分數的平均值，並將同學的分數由大到小(由左到右)排列\n",
    "#用list 來做\n",
    "s1 = input(\"輸入第1個數字\")\n",
    "s2 = input(\"輸入第2個數字\")\n",
    "s3 = input(\"輸入第3個數字\")\n",
    "s4 = input(\"輸入第4個數字\")\n",
    "a = [s1,s2,s3,s4]\n",
    "print(a)\n"
   ]
  },
  {
   "cell_type": "code",
   "execution_count": 90,
   "id": "ce7bdbae",
   "metadata": {},
   "outputs": [
    {
     "name": "stdout",
     "output_type": "stream",
     "text": [
      "4\n",
      "2\n",
      "6\n",
      "[-1, -2, -3, -4, -5]\n",
      "[]\n"
     ]
    }
   ],
   "source": [
    "#E2-1 lambda 資料處理語法 \n",
    "a = lambda x: x ** 2\n",
    "print(a(2))\n",
    "b = lambda x: x if x>=0 else -x\n",
    "print(b(-2))\n",
    "c = lambda x,y: x*y if x>=0 else (-x)*y\n",
    "print(c(-2,3))\n",
    "\n",
    "k = [1,2,3,4,5]\n",
    "result  = list(map((lambda x: -1*x) , k))\n",
    "print(result)\n",
    "\n",
    "result  = list(filter((lambda x: x-60>=0) , k))\n",
    "print(result)"
   ]
  },
  {
   "cell_type": "code",
   "execution_count": null,
   "id": "62de18c3",
   "metadata": {},
   "outputs": [],
   "source": [
    "#T2-1\n",
    "#輸入四位同學的分數，如果有人的分數低於60分則不計入，之後將有被記錄的學生分數，輸出最大值與最小值的分數差"
   ]
  },
  {
   "cell_type": "code",
   "execution_count": 152,
   "id": "ee378de3",
   "metadata": {},
   "outputs": [
    {
     "name": "stdout",
     "output_type": "stream",
     "text": [
      "1 2 3 4 2 1 4 5\n",
      "快速輸入隨機數字 \t [1, 2, 3, 4, 2, 1, 4, 5]\n"
     ]
    }
   ],
   "source": [
    "#T2-2\n",
    "#輸入六位同學的分數，輸入後會自動將同學每個人的分數乘以0.6後加上10分後呈現出來\n",
    "list1=[int(i) for i in input().split()]\n",
    "print(\"快速輸入隨機數字\",'\\t',list1)"
   ]
  },
  {
   "cell_type": "code",
   "execution_count": 114,
   "id": "851d5545",
   "metadata": {},
   "outputs": [
    {
     "name": "stdout",
     "output_type": "stream",
     "text": [
      "[1, 2, 3.3, 4.1, 5]\n",
      "4.1\n"
     ]
    }
   ],
   "source": [
    "#T2-3 呈上題，將出現數量最多的分數print出來\n",
    "#a = [1,5,4.1,4.1,4.1,4.1,4.1,2,2,3.3,4.1,4.1,5,5,5,5,5]\n",
    "#b = a\n",
    "#b.sort()\n",
    "#b = list(set(b)) #集合 (Set) 其實和數組 (Tuple) 與串列 (List) 很類似, 不同的點在於集合不會包含重複的資料\n",
    "#print(b)\n",
    "#c = []\n",
    "#for x in b:\n",
    "    #c.append(a.count(x))\n",
    "#print(b[c.index(max(c))])"
   ]
  },
  {
   "cell_type": "code",
   "execution_count": 11,
   "id": "f842c0de",
   "metadata": {},
   "outputs": [
    {
     "name": "stdout",
     "output_type": "stream",
     "text": [
      "Hi, how are you? What is your name? 你好\n",
      "Welcome 你好! Nice to meet you.\n"
     ]
    }
   ],
   "source": [
    "#E3 動態資料輸入 動態的list資料處理\n",
    "greeting = \"Hi, how are you? What is your name? \"\n",
    "valid_input = False\n",
    "while (not valid_input):\n",
    "    name = input(greeting)\n",
    "    if (name != ''):\n",
    "        print(\"Welcome \" + name + \"! Nice to meet you.\")\n",
    "        valid_input = True\n",
    "        break"
   ]
  },
  {
   "cell_type": "code",
   "execution_count": null,
   "id": "c414a7ba",
   "metadata": {},
   "outputs": [],
   "source": [
    "#T3-1\n",
    "#讓使用者輸入數字，直到使用者按下enter後才停止，之後將使用者輸入的所有數字印出來\n",
    "#輸入 11.2 、14 、18.3、22.4  輸出 11.2 、14 、18.3、22.4"
   ]
  },
  {
   "cell_type": "code",
   "execution_count": 151,
   "id": "e7732bd7",
   "metadata": {},
   "outputs": [
    {
     "name": "stdout",
     "output_type": "stream",
     "text": [
      "list1: []\n",
      "list2: [0, 0, 0, 0, 0, 0, 0, 0, 0, 0]\n",
      "1 4 2 23 34 5 666 74 42 2\n",
      "[1, 4, 2, 23, 34, 5, 666, 74, 42, 2]\n"
     ]
    }
   ],
   "source": [
    "#T3-2\n",
    "#讓使用者輸入一堆英文文字(CHAR)，直到使用者按下enter後才停止，之後將跟第一個文字重複的文字(CHAR)用$表示\n",
    "#輸入 ABDBDBABDEAEBE 輸出ABDBDB$BDE$EBE"
   ]
  }
 ],
 "metadata": {
  "kernelspec": {
   "display_name": "Python 3 (ipykernel)",
   "language": "python",
   "name": "python3"
  },
  "language_info": {
   "codemirror_mode": {
    "name": "ipython",
    "version": 3
   },
   "file_extension": ".py",
   "mimetype": "text/x-python",
   "name": "python",
   "nbconvert_exporter": "python",
   "pygments_lexer": "ipython3",
   "version": "3.11.4"
  }
 },
 "nbformat": 4,
 "nbformat_minor": 5
}
