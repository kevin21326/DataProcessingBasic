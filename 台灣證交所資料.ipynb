{
 "cells": [
  {
   "cell_type": "code",
   "execution_count": 2,
   "id": "67e8f66b",
   "metadata": {},
   "outputs": [
    {
     "name": "stdout",
     "output_type": "stream",
     "text": [
      "            Open  High   Low  Close     Volume\n",
      "Date                                          \n",
      "2020-09-01  76.9  77.3  76.4   77.0  22918.104\n",
      "2020-09-02  77.2  77.8  77.0   77.8  24934.189\n",
      "2020-09-03  78.8  79.3  77.6   77.7  41884.369\n",
      "2020-09-04  77.0  77.3  76.6   76.9  36806.710\n",
      "2020-09-07  76.8  77.5  76.8   77.3  21248.188\n",
      "2020-09-08  77.7  78.1  77.3   77.5  26249.612\n",
      "2020-09-09  77.3  77.9  76.6   77.9  22505.471\n",
      "2020-09-10  78.0  78.7  78.0   78.5  29117.204\n",
      "2020-09-11  78.5  78.5  78.0   78.5  16132.726\n",
      "2020-09-14  78.8  79.5  78.6   79.4  27029.525\n",
      "2020-09-15  79.4  79.4  78.9   79.1  16938.546\n",
      "2020-09-16  79.4  79.4  78.6   78.8  18122.360\n",
      "2020-09-17  78.6  79.1  78.0   78.1  20784.040\n",
      "2020-09-18  77.9  78.2  77.5   77.6  32663.875\n",
      "2020-09-21  77.6  78.3  77.3   77.4  19006.472\n",
      "2020-09-22  77.3  77.3  76.5   76.8  25601.394\n",
      "2020-09-23  77.0  77.2  76.6   76.7  18141.854\n",
      "2020-09-24  76.1  76.4  75.0   75.0  57338.020\n",
      "2020-09-25  75.4  75.7  74.1   74.3  38124.876\n",
      "2020-09-28  74.9  76.9  74.8   76.9  32250.992\n",
      "2020-09-29  77.3  78.4  77.0   77.0  36475.973\n",
      "2020-09-30  78.0  78.0  77.3   77.4  19229.698\n"
     ]
    }
   ],
   "source": [
    "import pandas as pd\n",
    "import numpy as np\n",
    "import json\n",
    "import requests\n",
    "\n",
    "def Get_StockPrice(Symbol, Date):\n",
    "\n",
    "    url = f'https://www.twse.com.tw/exchangeReport/STOCK_DAY?response=json&date={Date}&stockNo={Symbol}'\n",
    "\n",
    "    data = requests.get(url).text\n",
    "    json_data = json.loads(data)\n",
    "\n",
    "    Stock_data = json_data['data']\n",
    "\n",
    "    StockPrice = pd.DataFrame(Stock_data, columns = ['Date','Volume','Volume_Cash','Open','High','Low','Close','Change','Order'])\n",
    "\n",
    "    StockPrice['Date'] = StockPrice['Date'].str.replace('/','').astype(int) + 19110000\n",
    "    StockPrice['Date'] = pd.to_datetime(StockPrice['Date'].astype(str))\n",
    "    StockPrice['Volume'] = StockPrice['Volume'].str.replace(',','').astype(float)/1000\n",
    "    StockPrice['Volume_Cash'] = StockPrice['Volume_Cash'].str.replace(',','').astype(float)\n",
    "    StockPrice['Order'] = StockPrice['Order'].str.replace(',','').astype(float)\n",
    "\n",
    "    StockPrice['Open'] = StockPrice['Open'].str.replace(',','').astype(float)\n",
    "    StockPrice['High'] = StockPrice['High'].str.replace(',','').astype(float)\n",
    "    StockPrice['Low'] = StockPrice['Low'].str.replace(',','').astype(float)\n",
    "    StockPrice['Close'] = StockPrice['Close'].str.replace(',','').astype(float)\n",
    "\n",
    "    StockPrice = StockPrice.set_index('Date', drop = True)\n",
    "\n",
    "\n",
    "    StockPrice = StockPrice[['Open','High','Low','Close','Volume']]\n",
    "    print(StockPrice)\n",
    "    return StockPrice\n",
    "\n",
    "if __name__ == '__main__':\n",
    "    data = Get_StockPrice('2317','20200921')"
   ]
  },
  {
   "cell_type": "code",
   "execution_count": null,
   "id": "ce39a5ee",
   "metadata": {},
   "outputs": [],
   "source": []
  }
 ],
 "metadata": {
  "kernelspec": {
   "display_name": "Python 3 (ipykernel)",
   "language": "python",
   "name": "python3"
  },
  "language_info": {
   "codemirror_mode": {
    "name": "ipython",
    "version": 3
   },
   "file_extension": ".py",
   "mimetype": "text/x-python",
   "name": "python",
   "nbconvert_exporter": "python",
   "pygments_lexer": "ipython3",
   "version": "3.11.4"
  }
 },
 "nbformat": 4,
 "nbformat_minor": 5
}
